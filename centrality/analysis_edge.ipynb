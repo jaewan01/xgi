{
 "cells": [
  {
   "cell_type": "code",
   "execution_count": 23,
   "id": "da6df54e",
   "metadata": {},
   "outputs": [],
   "source": [
    "import numpy as np\n",
    "import matplotlib.pyplot as plt\n",
    "from scipy.stats import spearmanr, pearsonr, wasserstein_distance\n",
    "import itertools"
   ]
  },
  {
   "cell_type": "code",
   "execution_count": 32,
   "id": "fbcd3200",
   "metadata": {},
   "outputs": [],
   "source": [
    "# measures = [\"degree\", \"neighbor_degree\", \"closeness\", \"betweenness\", \"harmonic\", \"eigenvector\", \"pagerank\", \"uplift_eigenvector\", \"hypercoreness\"]\n",
    "measures = [\"degree\", \"line_expansion_degree\", \"closeness\", \"betweenness\", \"harmonic\", \"eigenvector\", \"pagerank\", \"hypercoreness\"]\n",
    "datasets = [\"senate-bills\"]"
   ]
  },
  {
   "cell_type": "code",
   "execution_count": 33,
   "id": "bef491c9",
   "metadata": {},
   "outputs": [
    {
     "ename": "FileNotFoundError",
     "evalue": "[Errno 2] No such file or directory: 'values/senate-bills/edge_closeness.npy'",
     "output_type": "error",
     "traceback": [
      "\u001b[1;31m---------------------------------------------------------------------------\u001b[0m",
      "\u001b[1;31mFileNotFoundError\u001b[0m                         Traceback (most recent call last)",
      "Cell \u001b[1;32mIn[33], line 5\u001b[0m\n\u001b[0;32m      3\u001b[0m \u001b[38;5;28;01mfor\u001b[39;00m dataset \u001b[38;5;129;01min\u001b[39;00m datasets:\n\u001b[0;32m      4\u001b[0m     \u001b[38;5;28;01mfor\u001b[39;00m measure \u001b[38;5;129;01min\u001b[39;00m measures:\n\u001b[1;32m----> 5\u001b[0m         values \u001b[38;5;241m=\u001b[39m \u001b[43mnp\u001b[49m\u001b[38;5;241;43m.\u001b[39;49m\u001b[43mload\u001b[49m\u001b[43m(\u001b[49m\u001b[38;5;124;43mf\u001b[39;49m\u001b[38;5;124;43m\"\u001b[39;49m\u001b[38;5;124;43mvalues/\u001b[39;49m\u001b[38;5;132;43;01m{\u001b[39;49;00m\u001b[43mdataset\u001b[49m\u001b[38;5;132;43;01m}\u001b[39;49;00m\u001b[38;5;124;43m/edge_\u001b[39;49m\u001b[38;5;132;43;01m{\u001b[39;49;00m\u001b[43mmeasure\u001b[49m\u001b[38;5;132;43;01m}\u001b[39;49;00m\u001b[38;5;124;43m.npy\u001b[39;49m\u001b[38;5;124;43m\"\u001b[39;49m\u001b[43m)\u001b[49m\n\u001b[0;32m      6\u001b[0m         values_by_dataset[dataset]\u001b[38;5;241m.\u001b[39mappend(values)\n",
      "File \u001b[1;32mc:\\Users\\dmlab\\anaconda3\\envs\\centrality\\Lib\\site-packages\\numpy\\lib\\_npyio_impl.py:454\u001b[0m, in \u001b[0;36mload\u001b[1;34m(file, mmap_mode, allow_pickle, fix_imports, encoding, max_header_size)\u001b[0m\n\u001b[0;32m    452\u001b[0m     own_fid \u001b[38;5;241m=\u001b[39m \u001b[38;5;28;01mFalse\u001b[39;00m\n\u001b[0;32m    453\u001b[0m \u001b[38;5;28;01melse\u001b[39;00m:\n\u001b[1;32m--> 454\u001b[0m     fid \u001b[38;5;241m=\u001b[39m stack\u001b[38;5;241m.\u001b[39menter_context(\u001b[38;5;28mopen\u001b[39m(os\u001b[38;5;241m.\u001b[39mfspath(file), \u001b[38;5;124m\"\u001b[39m\u001b[38;5;124mrb\u001b[39m\u001b[38;5;124m\"\u001b[39m))\n\u001b[0;32m    455\u001b[0m     own_fid \u001b[38;5;241m=\u001b[39m \u001b[38;5;28;01mTrue\u001b[39;00m\n\u001b[0;32m    457\u001b[0m \u001b[38;5;66;03m# Code to distinguish from NumPy binary files and pickles.\u001b[39;00m\n",
      "\u001b[1;31mFileNotFoundError\u001b[0m: [Errno 2] No such file or directory: 'values/senate-bills/edge_closeness.npy'"
     ]
    }
   ],
   "source": [
    "values_by_dataset = {dataset: [] for dataset in datasets}\n",
    "\n",
    "for dataset in datasets:\n",
    "    for measure in measures:\n",
    "        values = np.load(f\"values/{dataset}/edge_{measure}.npy\")\n",
    "        values_by_dataset[dataset].append(values)"
   ]
  },
  {
   "cell_type": "code",
   "execution_count": null,
   "id": "9df8040c",
   "metadata": {},
   "outputs": [
    {
     "name": "stderr",
     "output_type": "stream",
     "text": [
      "C:\\Users\\dmlab\\AppData\\Local\\Temp\\ipykernel_31016\\4034165025.py:7: ConstantInputWarning: An input array is constant; the correlation coefficient is not defined.\n",
      "  rho, _ = spearmanr(values_by_dataset[dataset][i], values_by_dataset[dataset][j])\n"
     ]
    }
   ],
   "source": [
    "n = len(measures)\n",
    "\n",
    "for dataset in datasets:\n",
    "    corr_matrix = np.zeros((n, n))\n",
    "    for i in range(n):\n",
    "        for j in range(n):\n",
    "            rho, _ = spearmanr(values_by_dataset[dataset][i], values_by_dataset[dataset][j])\n",
    "            corr_matrix[i, j] = rho\n",
    "\n",
    "    plt.figure(figsize=(6, 5))\n",
    "    im = plt.imshow(corr_matrix, cmap='coolwarm', vmin=-1, vmax=1)\n",
    "    plt.colorbar(im, label='Spearman Correlation')\n",
    "    plt.xticks(range(n), measures, rotation=45)\n",
    "    plt.yticks(range(n), measures)\n",
    "    plt.title(f\"Spearman Correlation Matrix ({dataset})\")\n",
    "    plt.tight_layout()\n",
    "    plt.savefig(f\"figures/edge_spearman_correlation_matrix_{dataset}.png\")\n",
    "    plt.close()"
   ]
  },
  {
   "cell_type": "code",
   "execution_count": null,
   "id": "3e7b4c57",
   "metadata": {},
   "outputs": [
    {
     "data": {
      "text/plain": [
       "array([9.18695452e-05, 9.18695452e-05, 9.18695452e-05, ...,\n",
       "       9.18695452e-05, 9.18695452e-05, 9.18695452e-05], shape=(10885,))"
      ]
     },
     "execution_count": 27,
     "metadata": {},
     "output_type": "execute_result"
    }
   ],
   "source": [
    "values_by_dataset[dataset][-1]"
   ]
  },
  {
   "cell_type": "code",
   "execution_count": null,
   "id": "09cc072a",
   "metadata": {},
   "outputs": [
    {
     "name": "stderr",
     "output_type": "stream",
     "text": [
      "C:\\Users\\dmlab\\AppData\\Local\\Temp\\ipykernel_31016\\1137961532.py:7: ConstantInputWarning: An input array is constant; the correlation coefficient is not defined.\n",
      "  rho, _ = pearsonr(values_by_dataset[dataset][i], values_by_dataset[dataset][j])\n"
     ]
    }
   ],
   "source": [
    "n = len(measures)\n",
    "\n",
    "for dataset in datasets:\n",
    "    corr_matrix = np.zeros((n, n))\n",
    "    for i in range(n):\n",
    "        for j in range(n):\n",
    "            rho, _ = pearsonr(values_by_dataset[dataset][i], values_by_dataset[dataset][j])\n",
    "            corr_matrix[i, j] = rho\n",
    "\n",
    "    plt.figure(figsize=(6, 5))\n",
    "    im = plt.imshow(corr_matrix, cmap='coolwarm', vmin=0, vmax=1)\n",
    "    plt.colorbar(im, label='Pearson Correlation')\n",
    "    plt.xticks(range(n), measures, rotation=45)\n",
    "    plt.yticks(range(n), measures)\n",
    "    plt.title(f\"Pearson Correlation Matrix ({dataset})\")\n",
    "    plt.tight_layout()\n",
    "    plt.savefig(f\"figures/edge_pearson_correlation_matrix_{dataset}.png\")\n",
    "    plt.close()"
   ]
  },
  {
   "cell_type": "code",
   "execution_count": null,
   "id": "23fea609",
   "metadata": {},
   "outputs": [],
   "source": [
    "for dataset in datasets:\n",
    "    jaccard_matrix = np.zeros((n, n))\n",
    "    scores = values_by_dataset[dataset]\n",
    "\n",
    "    # number of top items to consider (10% of nodes)\n",
    "    num_items = len(scores[0])\n",
    "    k = max(1, int(num_items * 0.05))\n",
    "\n",
    "    for i in range(n):\n",
    "        # get indices of top-k items for method i\n",
    "        top_i = set(np.argsort(scores[i])[::-1][:k])\n",
    "        for j in range(n):\n",
    "            top_j = set(np.argsort(scores[j])[::-1][:k])\n",
    "            # Jaccard similarity\n",
    "            intersection = len(top_i & top_j)\n",
    "            union = len(top_i | top_j)\n",
    "            jaccard_matrix[i, j] = intersection / union if union > 0 else 0.0\n",
    "\n",
    "    plt.figure(figsize=(6, 5))\n",
    "    im = plt.imshow(jaccard_matrix, cmap='coolwarm', vmin=0, vmax=1)\n",
    "    plt.colorbar(im, label='Jaccard Similarity @ 5%')\n",
    "    plt.xticks(range(n), measures, rotation=45)\n",
    "    plt.yticks(range(n), measures)\n",
    "    plt.title(f\"Jaccard Similarity Matrix @ 5% ({dataset})\")\n",
    "    plt.tight_layout()\n",
    "    plt.savefig(f\"figures/edge_jaccard_similarity_matrix_{dataset}.png\")\n",
    "    plt.close()"
   ]
  },
  {
   "cell_type": "code",
   "execution_count": null,
   "id": "81c6af81",
   "metadata": {},
   "outputs": [],
   "source": [
    "for dataset in datasets:\n",
    "    overlap_matrix = np.zeros((n, n))\n",
    "    scores = values_by_dataset[dataset]\n",
    "\n",
    "    # size of the top list: 10% of items (at least 1)\n",
    "    num_items = len(scores[0])\n",
    "    k = max(1, int(round(num_items * 0.05)))\n",
    "\n",
    "    # precompute top-k index sets for speed\n",
    "    topk_sets = []\n",
    "    for i in range(n):\n",
    "        # argsort descending, take top-k indices\n",
    "        topk = set(np.argsort(scores[i])[::-1][:k])\n",
    "        topk_sets.append(topk)\n",
    "\n",
    "    for i in range(n):\n",
    "        Ti = topk_sets[i]\n",
    "        for j in range(n):\n",
    "            Tj = topk_sets[j]\n",
    "            inter = len(Ti & Tj)\n",
    "            overlap_matrix[i, j] = inter / k  # since |Ti| = |Tj| = k\n",
    "\n",
    "    plt.figure(figsize=(6, 5))\n",
    "    im = plt.imshow(overlap_matrix, cmap='coolwarm', vmin=0, vmax=1)\n",
    "    plt.colorbar(im, label='Overlap @ 5%')\n",
    "    plt.xticks(range(n), measures, rotation=45, ha='right')\n",
    "    plt.yticks(range(n), measures)\n",
    "    plt.title(f\"Overlap Matrix @ 5% ({dataset})\")\n",
    "    plt.tight_layout()\n",
    "    plt.savefig(f\"figures/edge_overlap_matrix_{dataset}.png\")\n",
    "    plt.close()\n",
    "    "
   ]
  },
  {
   "cell_type": "code",
   "execution_count": null,
   "id": "e2f69ea3",
   "metadata": {},
   "outputs": [],
   "source": [
    "n = len(measures)\n",
    "\n",
    "for dataset in datasets:\n",
    "    corr_matrix = np.zeros((n, n))\n",
    "    for i in range(n):\n",
    "        for j in range(n):\n",
    "            rho = wasserstein_distance(values_by_dataset[dataset][i], values_by_dataset[dataset][j])\n",
    "            corr_matrix[i, j] = rho\n",
    "\n",
    "    plt.figure(figsize=(6, 5))\n",
    "    im = plt.imshow(corr_matrix, cmap='coolwarm_r')\n",
    "    plt.colorbar(im, label='Wasserstein Distance')\n",
    "    plt.xticks(range(n), measures, rotation=45)\n",
    "    plt.yticks(range(n), measures)\n",
    "    plt.title(f\"Wasserstein Distance Matrix ({dataset})\")\n",
    "    plt.tight_layout()\n",
    "    plt.savefig(f\"figures/edge_wasserstein_distance_matrix_{dataset}.png\")\n",
    "    plt.close()"
   ]
  }
 ],
 "metadata": {
  "kernelspec": {
   "display_name": "centrality",
   "language": "python",
   "name": "python3"
  },
  "language_info": {
   "codemirror_mode": {
    "name": "ipython",
    "version": 3
   },
   "file_extension": ".py",
   "mimetype": "text/x-python",
   "name": "python",
   "nbconvert_exporter": "python",
   "pygments_lexer": "ipython3",
   "version": "3.11.13"
  }
 },
 "nbformat": 4,
 "nbformat_minor": 5
}
