{
 "cells": [
  {
   "cell_type": "code",
   "execution_count": 1,
   "metadata": {},
   "outputs": [],
   "source": [
    "import xgi\n",
    "import os"
   ]
  },
  {
   "cell_type": "code",
   "execution_count": 6,
   "metadata": {},
   "outputs": [],
   "source": [
    "dataset_list = [\"senate-bills\", \"house-bills\", \"email-enron\", \"email-eu\", \"contact-primary-school\", \"contact-high-school\", \"tags-ask-ubuntu\", \"tags-math-sx\", \"coauth-mag-history\", \"coauth-dblp\"]"
   ]
  },
  {
   "cell_type": "code",
   "execution_count": 7,
   "metadata": {},
   "outputs": [
    {
     "name": "stdout",
     "output_type": "stream",
     "text": [
      "Downloading dataset: senate-bills\n"
     ]
    },
    {
     "name": "stderr",
     "output_type": "stream",
     "text": [
      "C:\\Users\\dmlab\\Desktop\\hypergraph_centrality\\xgi\\xgi\\readwrite\\json.py:40: UserWarning: This function is deprecated in favor of the 'write_hif()' function\n",
      "  warn(\"This function is deprecated in favor of the 'write_hif()' function\")\n"
     ]
    },
    {
     "name": "stdout",
     "output_type": "stream",
     "text": [
      "Downloading dataset: house-bills\n",
      "Downloading dataset: email-enron\n",
      "Downloading dataset: email-eu\n",
      "Downloading dataset: contact-primary-school\n",
      "Downloading dataset: contact-high-school\n",
      "Downloading dataset: tags-ask-ubuntu\n",
      "Downloading dataset: tags-math-sx\n",
      "Downloading dataset: coauth-mag-history\n",
      "Downloading dataset: coauth-dblp\n"
     ]
    }
   ],
   "source": [
    "os.makedirs(\"datasets\", exist_ok=True)\n",
    "for dataset in dataset_list:\n",
    "    print(f\"Downloading dataset: {dataset}\")\n",
    "    xgi.download_xgi_data(dataset, path=\"datasets\")"
   ]
  },
  {
   "cell_type": "code",
   "execution_count": 8,
   "metadata": {},
   "outputs": [
    {
     "name": "stderr",
     "output_type": "stream",
     "text": [
      "C:\\Users\\dmlab\\Desktop\\hypergraph_centrality\\xgi\\xgi\\readwrite\\json.py:106: UserWarning: This function is deprecated in favor of the 'read_hif()' function\n",
      "  warn(\"This function is deprecated in favor of the 'read_hif()' function\")\n"
     ]
    }
   ],
   "source": [
    "with open(\"datasets_stats.txt\", \"w\") as f:\n",
    "    f.write(\"Dataset\\tNodes\\tEdges\\tAvgEdgeSize\\tMaxEdgeSize\\tDensity\\tOverlapness\\n\")\n",
    "    for dataset in dataset_list:\n",
    "        f.write(f\"{dataset}\\t\")\n",
    "        hypergraph = xgi.load_xgi_data(dataset, read=True, path=\"datasets\")\n",
    "        n = hypergraph.num_nodes\n",
    "        m = hypergraph.num_edges\n",
    "        edge_sizes = hypergraph.edges.size\n",
    "        avg_edge_size = edge_sizes.mean() \n",
    "        max_edge_size = edge_sizes.max()\n",
    "        density = m / n\n",
    "        overlapness = edge_sizes.sum() / n\n",
    "        f.write(f\"{n}\\t{m}\\t{avg_edge_size}\\t{max_edge_size}\\t{density}\\t{overlapness}\\n\")"
   ]
  }
 ],
 "metadata": {
  "kernelspec": {
   "display_name": "centrality",
   "language": "python",
   "name": "python3"
  },
  "language_info": {
   "codemirror_mode": {
    "name": "ipython",
    "version": 3
   },
   "file_extension": ".py",
   "mimetype": "text/x-python",
   "name": "python",
   "nbconvert_exporter": "python",
   "pygments_lexer": "ipython3",
   "version": "3.11.13"
  }
 },
 "nbformat": 4,
 "nbformat_minor": 2
}
