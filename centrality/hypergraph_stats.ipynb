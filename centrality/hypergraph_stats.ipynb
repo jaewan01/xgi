{
 "cells": [
  {
   "cell_type": "code",
   "execution_count": 2,
   "metadata": {},
   "outputs": [],
   "source": [
    "import xgi\n",
    "import os"
   ]
  },
  {
   "cell_type": "code",
   "execution_count": 3,
   "metadata": {},
   "outputs": [],
   "source": [
    "dataset_list = [\"senate-bills\", \"house-bills\", \"email-enron\", \"email-eu\", \"contact-primary-school\", \"contact-high-school\", \"tags-ask-ubuntu\", \"tags-math-sx\", \"coauth-mag-history\", \"coauth-dblp\"]"
   ]
  },
  {
   "cell_type": "code",
   "execution_count": 7,
   "metadata": {},
   "outputs": [
    {
     "name": "stdout",
     "output_type": "stream",
     "text": [
      "Downloading dataset: senate-bills\n"
     ]
    },
    {
     "name": "stderr",
     "output_type": "stream",
     "text": [
      "C:\\Users\\dmlab\\Desktop\\hypergraph_centrality\\xgi\\xgi\\readwrite\\json.py:40: UserWarning: This function is deprecated in favor of the 'write_hif()' function\n",
      "  warn(\"This function is deprecated in favor of the 'write_hif()' function\")\n"
     ]
    },
    {
     "name": "stdout",
     "output_type": "stream",
     "text": [
      "Downloading dataset: house-bills\n",
      "Downloading dataset: email-enron\n",
      "Downloading dataset: email-eu\n",
      "Downloading dataset: contact-primary-school\n",
      "Downloading dataset: contact-high-school\n",
      "Downloading dataset: tags-ask-ubuntu\n",
      "Downloading dataset: tags-math-sx\n",
      "Downloading dataset: coauth-mag-history\n",
      "Downloading dataset: coauth-dblp\n"
     ]
    }
   ],
   "source": [
    "os.makedirs(\"datasets\", exist_ok=True)\n",
    "for dataset in dataset_list:\n",
    "    print(f\"Downloading dataset: {dataset}\")\n",
    "    xgi.download_xgi_data(dataset, path=\"datasets\")"
   ]
  },
  {
   "cell_type": "code",
   "execution_count": 8,
   "metadata": {},
   "outputs": [
    {
     "name": "stderr",
     "output_type": "stream",
     "text": [
      "C:\\Users\\dmlab\\Desktop\\hypergraph_centrality\\xgi\\xgi\\readwrite\\json.py:106: UserWarning: This function is deprecated in favor of the 'read_hif()' function\n",
      "  warn(\"This function is deprecated in favor of the 'read_hif()' function\")\n"
     ]
    }
   ],
   "source": [
    "with open(\"datasets_stats.txt\", \"w\") as f:\n",
    "    f.write(\"Dataset\\tNodes\\tEdges\\tAvgEdgeSize\\tMaxEdgeSize\\tDensity\\tOverlapness\\n\")\n",
    "    for dataset in dataset_list:\n",
    "        f.write(f\"{dataset}\\t\")\n",
    "        hypergraph = xgi.load_xgi_data(dataset, read=True, path=\"datasets\")\n",
    "        n = hypergraph.num_nodes\n",
    "        m = hypergraph.num_edges\n",
    "        edge_sizes = hypergraph.edges.size\n",
    "        avg_edge_size = edge_sizes.mean() \n",
    "        max_edge_size = edge_sizes.max()\n",
    "        density = m / n\n",
    "        overlapness = edge_sizes.sum() / n\n",
    "        f.write(f\"{n}\\t{m}\\t{avg_edge_size}\\t{max_edge_size}\\t{density}\\t{overlapness}\\n\")"
   ]
  },
  {
   "cell_type": "code",
   "execution_count": 5,
   "metadata": {},
   "outputs": [
    {
     "name": "stderr",
     "output_type": "stream",
     "text": [
      "C:\\Users\\dmlab\\Desktop\\hypergraph_centrality\\xgi\\xgi\\readwrite\\json.py:106: UserWarning: This function is deprecated in favor of the 'read_hif()' function\n",
      "  warn(\"This function is deprecated in favor of the 'read_hif()' function\")\n",
      "C:\\Users\\dmlab\\Desktop\\hypergraph_centrality\\xgi\\xgi\\readwrite\\json.py:40: UserWarning: This function is deprecated in favor of the 'write_hif()' function\n",
      "  warn(\"This function is deprecated in favor of the 'write_hif()' function\")\n"
     ]
    }
   ],
   "source": [
    "os.makedirs(\"datasets_lcc\", exist_ok=True)\n",
    "with open(\"datasets_lcc_stats.txt\", \"w\") as f:\n",
    "    f.write(\"Dataset\\tNodes\\tEdges\\tAvgEdgeSize\\tMaxEdgeSize\\tDensity\\tOverlapness\\n\")\n",
    "    for dataset in dataset_list:\n",
    "        f.write(f\"{dataset}\\t\")\n",
    "        hypergraph = xgi.load_xgi_data(dataset, read=True, path=\"datasets\")\n",
    "        lcc = xgi.largest_connected_hypergraph(hypergraph)\n",
    "        n = lcc.num_nodes\n",
    "        m = lcc.num_edges\n",
    "        edge_sizes = lcc.edges.size\n",
    "        avg_edge_size = edge_sizes.mean() \n",
    "        max_edge_size = edge_sizes.max()\n",
    "        density = m / n\n",
    "        overlapness = edge_sizes.sum() / n\n",
    "        f.write(f\"{n}\\t{m}\\t{avg_edge_size}\\t{max_edge_size}\\t{density}\\t{overlapness}\\n\")\n",
    "        xgi.readwrite.write_json(lcc, f\"datasets_lcc/{dataset}_lcc.json\")"
   ]
  },
  {
   "cell_type": "code",
   "execution_count": 14,
   "metadata": {},
   "outputs": [
    {
     "name": "stderr",
     "output_type": "stream",
     "text": [
      "C:\\Users\\dmlab\\Desktop\\hypergraph_centrality\\xgi\\xgi\\readwrite\\json.py:106: UserWarning: This function is deprecated in favor of the 'read_hif()' function\n",
      "  warn(\"This function is deprecated in favor of the 'read_hif()' function\")\n",
      "C:\\Users\\dmlab\\Desktop\\hypergraph_centrality\\xgi\\xgi\\readwrite\\json.py:40: UserWarning: This function is deprecated in favor of the 'write_hif()' function\n",
      "  warn(\"This function is deprecated in favor of the 'write_hif()' function\")\n"
     ]
    }
   ],
   "source": [
    "os.makedirs(\"datasets_lcc_size_2\", exist_ok=True)\n",
    "with open(\"datasets_lcc_size_2_stats.txt\", \"w\") as f:\n",
    "    for dataset in dataset_list:\n",
    "        f.write(f\"{dataset}\\t\")\n",
    "        lcc = xgi.load_xgi_data(dataset + \"_lcc\", read=True, path=\"datasets_lcc\")\n",
    "        hyperedge_list = xgi.to_hyperedge_list(lcc)\n",
    "        hyperedge_list_size_2 = []\n",
    "        for e in hyperedge_list:\n",
    "            if len(e) > 1:\n",
    "                hyperedge_list_size_2.append(e)\n",
    "        lcc_size_2 = xgi.from_hyperedge_list(hyperedge_list_size_2)\n",
    "        n = lcc_size_2.num_nodes\n",
    "        m = lcc_size_2.num_edges\n",
    "        edge_sizes_2 = lcc_size_2.edges.size\n",
    "        avg_edge_size = edge_sizes_2.mean() \n",
    "        max_edge_size = edge_sizes_2.max()\n",
    "        density = m / n\n",
    "        overlapness = edge_sizes_2.sum() / n\n",
    "        f.write(f\"{n}\\t{m}\\t{avg_edge_size}\\t{max_edge_size}\\t{density}\\t{overlapness}\\n\")\n",
    "        xgi.readwrite.write_json(lcc, f\"datasets_lcc_size_2/{dataset}.json\")\n"
   ]
  }
 ],
 "metadata": {
  "kernelspec": {
   "display_name": "centrality",
   "language": "python",
   "name": "python3"
  },
  "language_info": {
   "codemirror_mode": {
    "name": "ipython",
    "version": 3
   },
   "file_extension": ".py",
   "mimetype": "text/x-python",
   "name": "python",
   "nbconvert_exporter": "python",
   "pygments_lexer": "ipython3",
   "version": "3.11.13"
  }
 },
 "nbformat": 4,
 "nbformat_minor": 2
}
