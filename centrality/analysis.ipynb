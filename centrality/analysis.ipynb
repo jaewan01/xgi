{
 "cells": [
  {
   "cell_type": "code",
   "execution_count": 59,
   "id": "da6df54e",
   "metadata": {},
   "outputs": [],
   "source": [
    "import numpy as np\n",
    "import matplotlib.pyplot as plt\n",
    "from scipy.stats import spearmanr, pearsonr\n",
    "import itertools"
   ]
  },
  {
   "cell_type": "code",
   "execution_count": 67,
   "id": "fbcd3200",
   "metadata": {},
   "outputs": [],
   "source": [
    "# measures = [\"degree\", \"neighbor_degree\", \"closeness\", \"betweenness\", \"harmonic\", \"eigenvector\", \"pagerank\", \"uplift_eigenvector\", \"hypercoreness\"]\n",
    "measures = [\"degree\", \"neighbor_degree\", \"closeness\", \"betweenness\", \"harmonic\", \"eigenvector\", \"pagerank\", \"hypercoreness\"]\n",
    "datasets = [\"senate-bills\"]"
   ]
  },
  {
   "cell_type": "code",
   "execution_count": 68,
   "id": "bef491c9",
   "metadata": {},
   "outputs": [],
   "source": [
    "values_by_dataset = {dataset: [] for dataset in datasets}\n",
    "\n",
    "for dataset in datasets:\n",
    "    for measure in measures:\n",
    "        values = np.load(f\"values/{dataset}/node_{measure}.npy\")\n",
    "        values_by_dataset[dataset].append(values)"
   ]
  },
  {
   "cell_type": "code",
   "execution_count": 69,
   "id": "9df8040c",
   "metadata": {},
   "outputs": [],
   "source": [
    "n = len(measures)\n",
    "\n",
    "for dataset in datasets:\n",
    "    corr_matrix = np.zeros((n, n))\n",
    "    for i in range(n):\n",
    "        for j in range(n):\n",
    "            rho, _ = spearmanr(values_by_dataset[dataset][i], values_by_dataset[dataset][j])\n",
    "            corr_matrix[i, j] = rho\n",
    "\n",
    "    plt.figure(figsize=(6, 5))\n",
    "    im = plt.imshow(corr_matrix, cmap='coolwarm', vmin=0, vmax=1)\n",
    "    plt.colorbar(im, label='Spearman Correlation')\n",
    "    plt.xticks(range(n), measures, rotation=45)\n",
    "    plt.yticks(range(n), measures)\n",
    "    plt.title(f\"Spearman Correlation Matrix ({dataset})\")\n",
    "    plt.tight_layout()\n",
    "    plt.savefig(f\"figures/spearman_correlation_matrix_{dataset}.png\")\n",
    "    plt.close()"
   ]
  },
  {
   "cell_type": "code",
   "execution_count": null,
   "id": "6a096fad",
   "metadata": {},
   "outputs": [],
   "source": []
  },
  {
   "cell_type": "code",
   "execution_count": 70,
   "id": "09cc072a",
   "metadata": {},
   "outputs": [],
   "source": [
    "n = len(measures)\n",
    "\n",
    "for dataset in datasets:\n",
    "    corr_matrix = np.zeros((n, n))\n",
    "    for i in range(n):\n",
    "        for j in range(n):\n",
    "            rho, _ = pearsonr(values_by_dataset[dataset][i], values_by_dataset[dataset][j])\n",
    "            corr_matrix[i, j] = rho\n",
    "\n",
    "    plt.figure(figsize=(6, 5))\n",
    "    im = plt.imshow(corr_matrix, cmap='coolwarm', vmin=0, vmax=1)\n",
    "    plt.colorbar(im, label='Pearson Correlation')\n",
    "    plt.xticks(range(n), measures, rotation=45)\n",
    "    plt.yticks(range(n), measures)\n",
    "    plt.title(f\"Pearson Correlation Matrix ({dataset})\")\n",
    "    plt.tight_layout()\n",
    "    plt.savefig(f\"figures/pearson_correlation_matrix_{dataset}.png\")\n",
    "    plt.close()"
   ]
  },
  {
   "cell_type": "code",
   "execution_count": 71,
   "id": "23fea609",
   "metadata": {},
   "outputs": [],
   "source": [
    "for dataset in datasets:\n",
    "    jaccard_matrix = np.zeros((n, n))\n",
    "    scores = values_by_dataset[dataset]\n",
    "\n",
    "    # number of top items to consider (10% of nodes)\n",
    "    num_items = len(scores[0])\n",
    "    k = max(1, int(num_items * 0.05))\n",
    "\n",
    "    for i in range(n):\n",
    "        # get indices of top-k items for method i\n",
    "        top_i = set(np.argsort(scores[i])[::-1][:k])\n",
    "        for j in range(n):\n",
    "            top_j = set(np.argsort(scores[j])[::-1][:k])\n",
    "            # Jaccard similarity\n",
    "            intersection = len(top_i & top_j)\n",
    "            union = len(top_i | top_j)\n",
    "            jaccard_matrix[i, j] = intersection / union if union > 0 else 0.0\n",
    "\n",
    "    plt.figure(figsize=(6, 5))\n",
    "    im = plt.imshow(jaccard_matrix, cmap='coolwarm', vmin=0, vmax=1)\n",
    "    plt.colorbar(im, label='Jaccard Similarity @ 5%')\n",
    "    plt.xticks(range(n), measures, rotation=45)\n",
    "    plt.yticks(range(n), measures)\n",
    "    plt.title(f\"Jaccard Similarity Matrix @ 5% ({dataset})\")\n",
    "    plt.tight_layout()\n",
    "    plt.savefig(f\"figures/jaccard_similarity_matrix_{dataset}.png\")\n",
    "    plt.close()"
   ]
  },
  {
   "cell_type": "code",
   "execution_count": 72,
   "id": "81c6af81",
   "metadata": {},
   "outputs": [],
   "source": [
    "for dataset in datasets:\n",
    "    overlap_matrix = np.zeros((n, n))\n",
    "    scores = values_by_dataset[dataset]\n",
    "\n",
    "    # size of the top list: 10% of items (at least 1)\n",
    "    num_items = len(scores[0])\n",
    "    k = max(1, int(round(num_items * 0.05)))\n",
    "\n",
    "    # precompute top-k index sets for speed\n",
    "    topk_sets = []\n",
    "    for i in range(n):\n",
    "        # argsort descending, take top-k indices\n",
    "        topk = set(np.argsort(scores[i])[::-1][:k])\n",
    "        topk_sets.append(topk)\n",
    "\n",
    "    for i in range(n):\n",
    "        Ti = topk_sets[i]\n",
    "        for j in range(n):\n",
    "            Tj = topk_sets[j]\n",
    "            inter = len(Ti & Tj)\n",
    "            overlap_matrix[i, j] = inter / k  # since |Ti| = |Tj| = k\n",
    "\n",
    "    plt.figure(figsize=(6, 5))\n",
    "    im = plt.imshow(overlap_matrix, cmap='coolwarm', vmin=0, vmax=1)\n",
    "    plt.colorbar(im, label='Overlap @ 5%')\n",
    "    plt.xticks(range(n), measures, rotation=45, ha='right')\n",
    "    plt.yticks(range(n), measures)\n",
    "    plt.title(f\"Overlap Matrix @ 5% ({dataset})\")\n",
    "    plt.tight_layout()\n",
    "    plt.savefig(f\"figures/overlap_matrix_{dataset}.png\")\n",
    "    plt.close()\n",
    "    "
   ]
  },
  {
   "cell_type": "code",
   "execution_count": 73,
   "id": "e2f69ea3",
   "metadata": {},
   "outputs": [],
   "source": [
    "n = len(measures)\n",
    "\n",
    "for dataset in datasets:\n",
    "    corr_matrix = np.zeros((n, n))\n",
    "    for i in range(n):\n",
    "        for j in range(n):\n",
    "            rho = wasserstein_distance(values_by_dataset[dataset][i], values_by_dataset[dataset][j])\n",
    "            corr_matrix[i, j] = rho\n",
    "\n",
    "    plt.figure(figsize=(6, 5))\n",
    "    im = plt.imshow(corr_matrix, cmap='coolwarm_r')\n",
    "    plt.colorbar(im, label='Wasserstein Distance')\n",
    "    plt.xticks(range(n), measures, rotation=45)\n",
    "    plt.yticks(range(n), measures)\n",
    "    plt.title(f\"Wasserstein Distance Matrix ({dataset})\")\n",
    "    plt.tight_layout()\n",
    "    plt.savefig(f\"figures/wasserstein_distance_matrix_{dataset}.png\")\n",
    "    plt.close()"
   ]
  }
 ],
 "metadata": {
  "kernelspec": {
   "display_name": "centrality",
   "language": "python",
   "name": "python3"
  },
  "language_info": {
   "codemirror_mode": {
    "name": "ipython",
    "version": 3
   },
   "file_extension": ".py",
   "mimetype": "text/x-python",
   "name": "python",
   "nbconvert_exporter": "python",
   "pygments_lexer": "ipython3",
   "version": "3.11.13"
  }
 },
 "nbformat": 4,
 "nbformat_minor": 5
}
